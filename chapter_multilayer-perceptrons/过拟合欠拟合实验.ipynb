{
 "cells": [
  {
   "cell_type": "code",
   "execution_count": 18,
   "metadata": {},
   "outputs": [
    {
     "data": {
      "text/plain": [
       "(1, 20)"
      ]
     },
     "execution_count": 18,
     "metadata": {},
     "output_type": "execute_result"
    }
   ],
   "source": [
    "import math\n",
    "import numpy as np\n",
    "import torch\n",
    "from torch import nn\n",
    "from d2l import torch as d2l\n",
    "# 使用以下三阶多项式来生成训练和测试数据的标签：\n",
    "\n",
    "max_degree = 20  # 多项式的最大阶数\n",
    "n_train, n_test = 100, 100  # 训练和测试数据集大小\n",
    "true_w = np.zeros(max_degree)  # 分配大量的空间\n",
    "true_w[0:4] = np.array([5, 1.2, -3.4, 5.6])  # 前面4个是真实w，后面的全是0是噪音项\n",
    "\n",
    "features = np.random.normal(size=(n_train+n_test, 1))  # 200,1\n",
    "np.random.shuffle(features)\n",
    "poly_features = np.power(features, np.arange(\n",
    "    max_degree).reshape(1, -1))  # power(x,y)计算x的y次方  poly_features 200*20\n",
    "for i in range(max_degree):\n",
    "    poly_features[:, i] /= math.gamma(i+1)  # gamma(n)=(n-1)!  阶乘\n",
    "# labels的维度:(n_train+n_test,)\n",
    "labels = np.dot(poly_features, true_w)\n",
    "labels += np.random.normal(scale=0.1, size=labels.shape)\n",
    "# NumPyndarray转换为tensor\n",
    "true_w, features, poly_features, labels = [torch.tensor(\n",
    "    x, dtype=torch.float32) for x in [true_w, features, poly_features, labels]]\n",
    "\n",
    "\n"
   ]
  }
 ],
 "metadata": {
  "interpreter": {
   "hash": "9f6bfdd633174b13763f54df811296493377e55ee3e08a58136054b232455b8d"
  },
  "kernelspec": {
   "display_name": "Python 3.8.12 64-bit ('d2l': conda)",
   "language": "python",
   "name": "python3"
  },
  "language_info": {
   "codemirror_mode": {
    "name": "ipython",
    "version": 3
   },
   "file_extension": ".py",
   "mimetype": "text/x-python",
   "name": "python",
   "nbconvert_exporter": "python",
   "pygments_lexer": "ipython3",
   "version": "3.8.12"
  },
  "orig_nbformat": 4
 },
 "nbformat": 4,
 "nbformat_minor": 2
}
