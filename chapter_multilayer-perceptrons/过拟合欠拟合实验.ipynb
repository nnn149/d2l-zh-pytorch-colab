{
 "cells": [
  {
   "cell_type": "code",
   "execution_count": null,
   "metadata": {},
   "outputs": [],
   "source": [
    "import math\n",
    "import numpy as np\n",
    "import torch\n",
    "from torch import nn\n",
    "from d2l import torch as d2l\n",
    "\n",
    "# 使用以下三阶多项式来生成训练和测试数据的标签：\n",
    "\n",
    "max_degree = 20  # 多项式的最大阶数\n",
    "n_train, n_test = 100, 100  # 训练和测试数据集大小\n",
    "true_w = np.zeros(max_degree)  # 分配大量的空间\n",
    "true_w[0:4] = np.array([5, 1.2, -3.4, 5.6])  # 前面4个是真实w，后面的全是0是噪音项\n",
    "\n",
    "features = np.random.normal(size=(n_train + n_test, 1))  # 200,1\n",
    "np.random.shuffle(features)\n",
    "poly_features = np.power(\n",
    "    features, np.arange(max_degree).reshape(1, -1)\n",
    ")  # power(x,y)计算x的y次方  poly_features 200*20\n",
    "for i in range(max_degree):\n",
    "    poly_features[:, i] /= math.gamma(i + 1)  # gamma(n)=(n-1)!  阶乘\n",
    "# labels的维度:(n_train+n_test,)\n",
    "labels = np.dot(poly_features, true_w)  # 乘上真实的偏置  每一行20个算点积出来一个值，所以200*20变成 200\n",
    "labels += np.random.normal(scale=0.1, size=labels.shape)  # 搞点噪音\n",
    "# NumPyndarray转换为tensor\n",
    "true_w, features, poly_features, labels = [\n",
    "    torch.tensor(x, dtype=torch.float32)\n",
    "    for x in [true_w, features, poly_features, labels]\n",
    "]\n",
    "\n",
    "\n",
    "def evaluate_loss(net, data_iter, loss):\n",
    "    \"\"\"评估给定数据集上模型的损失\"\"\"\n",
    "    metric = d2l.Accumulator(2)  # 损失的总和,样本数量\n",
    "    for X, y in data_iter:\n",
    "        out = net(X)\n",
    "        y = y.reshape(out.shape)\n",
    "        l = loss(out, y)\n",
    "        metric.add(l.sum(), l.numel())\n",
    "    return metric[0] / metric[1]\n",
    "\n",
    "\n",
    "def train(train_features, test_features, train_labels, test_labels, num_epochs=400):\n",
    "    \"\"\"训练函数\"\"\"\n",
    "    loss = nn.MSELoss(reduction=\"none\")  # 均方损失函数 (y_hat-y)^2\n",
    "    # 如果 reduction = ‘none’，直接返回向量形式的 loss\n",
    "    # 如果 reduction ≠ ‘none’，那么 loss 返回的是标量\n",
    "    # 如果 reduction=‘mean’，返回 loss.mean(); 注意：默认情况下， reduction=‘mean’\n",
    "    # 如果 reduction=‘sum’，返回 loss.sum();\n",
    "    input_shape = train_features.shape[-1]  # 取最后一个元素\n",
    "    # 不设置偏置，因为我们已经在多项式特征中实现了它 (这里的多项式特征已经是多次项的值了，所以可以用线性回归拟合)\n",
    "    net = nn.Sequential(nn.Linear(input_shape, 1, bias=False))\n",
    "    # 多项式回归 https://www.bilibili.com/video/BV164411b7dx?p=22\n",
    "    batch_size = min(10, train_labels.shape[0])\n",
    "    train_iter = d2l.load_array(\n",
    "        (train_features, train_labels.reshape(-1, 1)), batch_size\n",
    "    )\n",
    "    test_iter = d2l.load_array(\n",
    "        (test_features, test_labels.reshape(-1, 1)), batch_size, is_train=False\n",
    "    )\n",
    "    trainer = torch.optim.SGD(net.parameters(), lr=0.001)\n",
    "    animator = d2l.Animator(\n",
    "        xlabel=\"epoch\",\n",
    "        ylabel=\"loss\",\n",
    "        yscale=\"log\",\n",
    "        xlim=[1, num_epochs],\n",
    "        ylim=[1e-3, 1e2],\n",
    "        legend=[\"train\", \"test\"],\n",
    "    )\n",
    "    for epoch in range(num_epochs):\n",
    "        d2l.train_epoch_ch3(net, train_iter, loss, trainer)\n",
    "        if epoch == 0 or (epoch + 1) % 20 == 0:\n",
    "            animator.add(\n",
    "                epoch + 1,\n",
    "                (\n",
    "                    evaluate_loss(net, train_iter, loss),\n",
    "                    evaluate_loss(net, test_iter, loss),\n",
    "                ),\n",
    "            )\n",
    "    print(\"weight:\", net[0].weight.data.numpy())\n"
   ]
  },
  {
   "cell_type": "code",
   "execution_count": null,
   "metadata": {},
   "outputs": [],
   "source": [
    "# 正态\n",
    "# 从多项式特征中选择前4个维度，即1,x,x^2/2!,x^3/3!\n",
    "train(\n",
    "    poly_features[:n_train, :4],  # 取前100行的前四列\n",
    "    poly_features[n_train:, :4],  # 取后100行的后四列\n",
    "    labels[:n_train],  # 0-100个\n",
    "    labels[n_train:],  # 100-200个\n",
    ")"
   ]
  },
  {
   "cell_type": "code",
   "execution_count": null,
   "metadata": {},
   "outputs": [],
   "source": [
    "# 欠拟合 :损失根本就没降，根本没训练好模型，数据（特征）没给全，模型再好也没办法训练出来\n",
    "# 从多项式特征中选择前2个维度，即1和x\n",
    "train(\n",
    "    poly_features[:n_train, :2],\n",
    "    poly_features[n_train:, :2],\n",
    "    labels[:n_train],\n",
    "    labels[n_train:],\n",
    ")\n",
    "\n"
   ]
  },
  {
   "cell_type": "code",
   "execution_count": null,
   "metadata": {},
   "outputs": [],
   "source": [
    "# 过拟合 噪音都拟合了\n",
    "# 从多项式特征中选取所有维度\n",
    "train(poly_features[:n_train, :], poly_features[n_train:, :],\n",
    "      labels[:n_train], labels[n_train:], num_epochs=1500)"
   ]
  },
  {
   "cell_type": "markdown",
   "metadata": {},
   "source": [
    "通过调整拟合多项式的阶数来限制模型的容量，限制特征的数量是缓解过拟合的一种常用技术"
   ]
  }
 ],
 "metadata": {
  "interpreter": {
   "hash": "9f6bfdd633174b13763f54df811296493377e55ee3e08a58136054b232455b8d"
  },
  "kernelspec": {
   "display_name": "Python 3.8.12 64-bit ('d2l': conda)",
   "language": "python",
   "name": "python3"
  },
  "language_info": {
   "codemirror_mode": {
    "name": "ipython",
    "version": 3
   },
   "file_extension": ".py",
   "mimetype": "text/x-python",
   "name": "python",
   "nbconvert_exporter": "python",
   "pygments_lexer": "ipython3",
   "version": "3.8.12"
  },
  "orig_nbformat": 4
 },
 "nbformat": 4,
 "nbformat_minor": 2
}
