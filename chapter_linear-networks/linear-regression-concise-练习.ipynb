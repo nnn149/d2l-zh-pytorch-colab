{
 "cells": [
  {
   "cell_type": "code",
   "execution_count": 27,
   "metadata": {},
   "outputs": [
    {
     "name": "stdout",
     "output_type": "stream",
     "text": [
      "epoch 1, loss 0.000238\n",
      "epoch 2, loss 0.000101\n",
      "epoch 3, loss 0.000100\n",
      "tensor([[ 1.9993, -3.4012]])\n",
      "tensor([4.1994])\n"
     ]
    }
   ],
   "source": [
    "import numpy as np\n",
    "import torch\n",
    "from torch.utils import data\n",
    "from d2l import torch as d2l\n",
    "\n",
    "# 生成数据集\n",
    "true_w = torch.tensor([2, -3.4])\n",
    "true_b = 4.2\n",
    "features, labels = d2l.synthetic_data(true_w, true_b, 1000)\n",
    "\n",
    "# 读取数据集\n",
    "def load_array(data_arrays, batch_size, is_train=True):\n",
    "    \"\"\"构造一个Pytorch数据迭代器\"\"\"\n",
    "    dataset = data.TensorDataset(*data_arrays)\n",
    "    return data.DataLoader(dataset, batch_size, shuffle=is_train)\n",
    "\n",
    "\n",
    "batch_size = 10\n",
    "data_iter = load_array((features, labels), batch_size)\n",
    "\n",
    "# nn是神经网络的缩写\n",
    "from torch import nn\n",
    "\n",
    "# Sequential将多个层串联在一起，可以不使用Sequential，但是以后几乎都是多层\n",
    "# nn.Linear定义一个全连接层，她的每一个输入都通过矩阵-向量乘法得到它的每个输出\n",
    "# 第一个参数是输入特征形状为2\n",
    "# 第二个参数指定输出特征形状是单个标量，所以为1\n",
    "net = nn.Sequential(nn.Linear(2, 1))\n",
    "\"\"\"定义模型\"\"\"\n",
    "\n",
    "# 初始化模型参数\n",
    "# net[0]选择网络中的第一个图层,在这里也就是上面设置的 Linear\n",
    "net[0].weight.data.normal_(0, 0.01)\n",
    "net[0].bias.data.fill_(0)\n",
    "\n",
    "\n",
    "loss = nn.MSELoss()\n",
    "\"\"\"定义损失函数(平方L2范数)，返回样本损失的平均值\"\"\"\n",
    "\n",
    "\n",
    "# 指定优化参数通过net.parameters()从我们的模型中获得，设置超参数字典\n",
    "# 小批量随机梯度下降只需要设置lr值\n",
    "trainer = torch.optim.SGD(net.parameters(), lr=0.03)\n",
    "\"\"\"定义优化算法随机梯度下降\"\"\"\n",
    "\n",
    "\n",
    "# 开始训练\n",
    "\n",
    "num_epochs = 3\n",
    "for epoch in range(num_epochs):\n",
    "    for X, y in data_iter:\n",
    "        l = loss(net(X), y)\n",
    "        trainer.zero_grad()\n",
    "        l.backward()\n",
    "        trainer.step()  # 更新参数\n",
    "    l = loss(net(features), labels)\n",
    "    print(f\"epoch {epoch + 1}, loss {l:f}\")\n",
    "\n",
    "w = net[0].weight.data\n",
    "print(\"w的估计误差：\", true_w - w.reshape(true_w.shape))\n",
    "b = net[0].bias.data\n",
    "print(\"b的估计误差：\", true_b - b)\n",
    "\n"
   ]
  }
 ],
 "metadata": {
  "kernelspec": {
   "display_name": "Python 3",
   "name": "python3"
  },
  "language_info": {
   "codemirror_mode": {
    "name": "ipython",
    "version": 3
   },
   "file_extension": ".py",
   "mimetype": "text/x-python",
   "name": "python",
   "nbconvert_exporter": "python",
   "pygments_lexer": "ipython3",
   "version": "3.8.12"
  }
 },
 "nbformat": 4,
 "nbformat_minor": 4
}
