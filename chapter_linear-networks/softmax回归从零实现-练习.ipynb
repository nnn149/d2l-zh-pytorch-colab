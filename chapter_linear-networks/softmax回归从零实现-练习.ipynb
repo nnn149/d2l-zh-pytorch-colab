{
 "cells": [
  {
   "cell_type": "code",
   "execution_count": 82,
   "metadata": {},
   "outputs": [
    {
     "name": "stdout",
     "output_type": "stream",
     "text": [
      "<torch.utils.data.dataloader.DataLoader object at 0x0000021EDE61C820>\n"
     ]
    },
    {
     "data": {
      "text/plain": [
       "0.0905"
      ]
     },
     "execution_count": 82,
     "metadata": {},
     "output_type": "execute_result"
    }
   ],
   "source": [
    "import torch\n",
    "from IPython import display\n",
    "from d2l import torch as d2l\n",
    "\n",
    "batch_size = 5\n",
    "train_iter, test_iter = d2l.load_data_fashion_mnist(batch_size)\n",
    "\n",
    "num_inputs = 28 * 28\n",
    "\"\"\"展平每个图，看作784长的向量\"\"\"\n",
    "num_outputs = 10\n",
    "\"\"\"输出10个类别\"\"\"\n",
    "\n",
    "W = torch.normal(0, 0.01, size=(num_inputs, num_outputs), requires_grad=True)\n",
    "b = torch.zeros(num_outputs, requires_grad=True)\n",
    "\n",
    "\n",
    "def softmax(X):\n",
    "    X_exp = torch.exp(X)\n",
    "    partition = X_exp.sum(1, keepdim=True)\n",
    "    return X_exp / partition  # 广播\n",
    "\n",
    "\n",
    "def net(X):\n",
    "    \"\"\"定义模型，图像展平\"\"\"\n",
    "    return softmax(torch.matmul(X.reshape((-1, W.shape[0])), W) + b)\n",
    "\n",
    "\n",
    "# y每个元素代表一个样本，每个元素的值代表类别的索引\n",
    "y = torch.tensor([0, 2])  # 第一个样本第一类是正确预测，第二个样本第三类是正确预测\n",
    "# y_hat的一行代表一个样本，每列代表每个类别的概率\n",
    "y_hat = torch.tensor([[0.1, 0.3, 0.6], [0.3, 0.2, 0.5]])\n",
    "y_hat[[0, 1], y]\n",
    "\"\"\"第0行第0列和第1行第二列\"\"\"\n",
    "\n",
    "\n",
    "def cross_entropy(y_hat, y):\n",
    "    \"\"\"交叉熵损失函数\"\"\"\n",
    "    return -torch.log(y_hat[range(len(y_hat)), y])\n",
    "\n",
    "\n",
    "def accuracy(y_hat, y):\n",
    "    \"\"\"计算预测正确的数量\"\"\"\n",
    "    if len(y_hat.shape) > 1 and y_hat.shape[1] > 1:\n",
    "        y_hat = y_hat.argmax(axis=1)\n",
    "    cmp = (\n",
    "        y_hat.type(y.dtype) == y\n",
    "    )  # type() 按输入的数据类型进行转换并返回   dtype 返回数据元素的数据类型（int、float等）\n",
    "    return float(cmp.type(y.dtype).sum())\n",
    "\n",
    "\n",
    "def evaluate_accuracy(net, data_iter):\n",
    "    \"\"\"计算再指定数据集上模型的精度\"\"\"\n",
    "    if isinstance(net, torch.nn.Module):\n",
    "        net.eval()  # 将模型设置为评估模式\n",
    "    metric = d2l.Accumulator(2)  # 正确预测数、预测总数\n",
    "    with torch.no_grad():\n",
    "        for X, y in data_iter:\n",
    "            metric.add(accuracy(net(X), y), y.numel())\n",
    "    return metric[0] / metric[1]\n",
    "\n",
    "\n",
    "evaluate_accuracy(net, test_iter)\n"
   ]
  }
 ],
 "metadata": {
  "interpreter": {
   "hash": "9f6bfdd633174b13763f54df811296493377e55ee3e08a58136054b232455b8d"
  },
  "kernelspec": {
   "display_name": "Python 3.8.12 64-bit ('d2l': conda)",
   "language": "python",
   "name": "python3"
  },
  "language_info": {
   "codemirror_mode": {
    "name": "ipython",
    "version": 3
   },
   "file_extension": ".py",
   "mimetype": "text/x-python",
   "name": "python",
   "nbconvert_exporter": "python",
   "pygments_lexer": "ipython3",
   "version": "3.8.12"
  },
  "orig_nbformat": 4
 },
 "nbformat": 4,
 "nbformat_minor": 2
}
